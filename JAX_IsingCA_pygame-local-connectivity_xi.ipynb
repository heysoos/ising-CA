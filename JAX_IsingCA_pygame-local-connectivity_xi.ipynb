{
 "cells": [
  {
   "cell_type": "code",
   "execution_count": 1,
   "id": "practical-estonia",
   "metadata": {
    "ExecuteTime": {
     "end_time": "2023-08-17T23:39:24.073386916Z",
     "start_time": "2023-08-17T23:39:23.501033758Z"
    }
   },
   "outputs": [
    {
     "name": "stdout",
     "output_type": "stream",
     "text": [
      "pygame 2.5.0 (SDL 2.28.0, Python 3.11.3)\n",
      "Hello from the pygame community. https://www.pygame.org/contribute.html\n"
     ]
    }
   ],
   "source": [
    "import numpy as np\n",
    "import matplotlib.pyplot as plt\n",
    "\n",
    "import jax\n",
    "import jax.numpy as jnp\n",
    "from jax import random\n",
    "\n",
    "from JAX_isingCA_local_connectivity_xi import isingCA\n",
    "import pygame\n",
    "from tqdm import tqdm"
   ]
  },
  {
   "cell_type": "code",
   "execution_count": 2,
   "outputs": [],
   "source": [
    "from itertools import product\n",
    "\n",
    "# toggle the brush between two modes (shortcut B)\n",
    "BRUSH_TOGGLE = False\n",
    "\n",
    "def LMB_make(state, r=5, s=1):\n",
    "    '''\n",
    "    left click to make\n",
    "    r: radius of brush\n",
    "    s: smoothing / sigma\n",
    "    '''\n",
    "    xcl, ycl = pygame.mouse.get_pos()\n",
    "    xcl, ycl = int(xcl/UPSCALE), int(ycl/UPSCALE)\n",
    "    \n",
    "     # radial blur\n",
    "    xm, ym = np.meshgrid(np.linspace(-1, 1, 2*r), np.linspace(-1, 1, 2*r))\n",
    "    rm = np.sqrt(xm**2 + ym**2)\n",
    "    blur = np.exp(-rm**2 / s**2)\n",
    "    blur = np.where(rm <= 1., blur, 0.) # circular mask\n",
    "    \n",
    "    # doesn't do periodic boundaries\n",
    "    # state[:, 1, xcl - r:xcl + r, ycl - r : ycl + r] -= (blur.cuda() + 1e-6) \n",
    "    \n",
    "    range_x = range(xcl - r, xcl + r)\n",
    "    range_y = range(ycl - r, ycl + r)\n",
    "    coords = list(product(range_x, range_y))\n",
    "    idx_i = [c[0] % RESX for c in coords]\n",
    "    idx_j = [c[1] % RESY for c in coords]\n",
    "    \n",
    "\n",
    "    state = state.at[:, 0, idx_i, idx_j].set(1.)\n",
    "        #state[:, 0, idx_i, idx_j] = np.where(rm.reshape(-1) <= 1.,\n",
    "        #                                        1.,\n",
    "        #                                        state[:, 0, idx_i, idx_j]\n",
    "        #                                       )\n",
    "    \n",
    "    return state\n",
    "    \n",
    "    \n",
    "def RMB_del(state, r=5, s=1):\n",
    "    '''\n",
    "    right click to erase\n",
    "    r: radius of eraser\n",
    "    s: smoothing / sigma\n",
    "    '''\n",
    "    xcl, ycl = pygame.mouse.get_pos()\n",
    "    xcl, ycl = int(xcl/UPSCALE), int(ycl/UPSCALE)\n",
    "    \n",
    "    # radial blur\n",
    "    xm, ym = np.meshgrid(np.linspace(-1, 1, 2*r), np.linspace(-1, 1, 2*r))\n",
    "    rm = np.sqrt(xm**2 + ym**2)\n",
    "    blur = np.exp(-rm**2 / s**2)\n",
    "    blur = np.where(rm <= 1., blur, 0.) # circular mask\n",
    "    \n",
    "    range_x = range(xcl - r, xcl + r)\n",
    "    range_y = range(ycl - r, ycl + r)\n",
    "    coords = list(product(range_x, range_y))\n",
    "    idx_i = [c[0] % RESX for c in coords]\n",
    "    idx_j = [c[1] % RESY for c in coords]\n",
    "    \n",
    "    state = state.at[:, 0, idx_i, idx_j].set(-1.)\n",
    "    \n",
    "    return state\n",
    "\n",
    "def WHEEL_permute(cdim_order, direction, mod):\n",
    "    cdim_order = np.mod(np.add(cdim_order, direction), mod)\n",
    "    \n",
    "    return cdim_order\n",
    "    \n",
    "def WHEEL_beta(beta, direction):\n",
    "    \n",
    "    return beta + direction * 0.01\n",
    "\n",
    "def min_max(x):\n",
    "    return (x - x.min()) / (x.max() - x.min())"
   ],
   "metadata": {
    "collapsed": false,
    "ExecuteTime": {
     "end_time": "2023-08-17T23:39:24.089427582Z",
     "start_time": "2023-08-17T23:39:24.077725294Z"
    }
   },
   "id": "b4bf6bd9d5596024"
  },
  {
   "cell_type": "code",
   "execution_count": 3,
   "id": "leading-desperate",
   "metadata": {
    "ExecuteTime": {
     "end_time": "2023-08-17T23:39:24.089620652Z",
     "start_time": "2023-08-17T23:39:24.080173471Z"
    }
   },
   "outputs": [],
   "source": [
    "def print_something(something):\n",
    "    fps = f'{something:.3f}'\n",
    "    fps_text = font.render(fps, 1, pygame.Color(\"white\"))\n",
    "    fps_bg = pygame.Surface((fps_text.get_height(),fps_text.get_width()))  # the size of your rect\n",
    "    fps_bg.set_alpha(50)                # alpha level\n",
    "    fps_bg.fill((255,255,255))           # this fills the entire surface\n",
    "\n",
    "    fps_surf = pygame.Surface((fps_bg.get_height(), fps_bg.get_width()))\n",
    "    fps_surf.blit(fps_bg, (0, 0))\n",
    "    fps_surf.blit(fps_text, (0, 0))\n",
    "    return fps_surf"
   ]
  },
  {
   "cell_type": "markdown",
   "id": "exact-irish",
   "metadata": {
    "tags": []
   },
   "source": [
    "# Test"
   ]
  },
  {
   "cell_type": "code",
   "execution_count": 4,
   "id": "saved-bolivia",
   "metadata": {
    "tags": [],
    "ExecuteTime": {
     "end_time": "2023-08-17T23:39:26.385156363Z",
     "start_time": "2023-08-17T23:39:24.083347982Z"
    }
   },
   "outputs": [],
   "source": [
    "RADIUS=3\n",
    "# BETA=1. / (RADIUS*RADIUS)\n",
    "BETA=1.\n",
    "RES=(300, 100)\n",
    "seed = 1234\n",
    "key = random.PRNGKey(seed)\n",
    "\n",
    "ca=isingCA(key, RES=RES, BETA=BETA, RADIUS=RADIUS)\n",
    "state = jax.lax.stop_gradient(ca.initGrid(key))\n",
    "\n",
    "jit_forward = jax.jit(ca.forward)\n",
    "#jit_forward = ca.forward"
   ]
  },
  {
   "cell_type": "code",
   "execution_count": 5,
   "outputs": [
    {
     "data": {
      "text/plain": "<Figure size 640x480 with 1 Axes>",
      "image/png": "[encoded data removed]"
     },
     "metadata": {},
     "output_type": "display_data"
    }
   ],
   "source": [
    "data = np.array(ca.rule.nearest_neighbours)\n",
    "zero_mask = np.abs(data) > 1e-6\n",
    "data = data[zero_mask].reshape(-1)\n",
    "plt.hist(data, 100, alpha=0.8, density=True, label=r'$J_{ij}$'); #plt.yscale('log'); # plt.xscale('log')\n",
    "\n",
    "data2 = np.array(ca.rule.nearest_neighbours)\n",
    "zero_mask = np.abs(data2) > 1e-6\n",
    "data2[~zero_mask] = np.nan\n",
    "data2 = np.nanmean(data2, axis=1).reshape(-1)\n",
    "plt.hist(data2, 100, alpha=0.8, density=True, label=r'$\\langle J_i \\rangle=\\frac{1}{N} \\sum_{j} J_{ij}$');\n",
    "\n",
    "plt.legend(fontsize=12)\n",
    "plt.ylabel('Density')\n",
    "\n",
    "# title_str = fr'$\\beta_c J_1 = 0.44; \\beta_1 \\langle J^{{t_f}}_i \\rangle = {np.mean(data2):.3f}$'\n",
    "title_str = fr'$\\langle J_i \\rangle = {np.mean(data2):.3f}$'\n",
    "plt.title(title_str);"
   ],
   "metadata": {
    "collapsed": false,
    "ExecuteTime": {
     "end_time": "2023-08-17T23:39:26.820663184Z",
     "start_time": "2023-08-17T23:39:26.389013102Z"
    }
   },
   "id": "2a0adfc937fd08b5"
  },
  {
   "cell_type": "code",
   "execution_count": 6,
   "id": "automatic-wonder",
   "metadata": {
    "tags": [],
    "ExecuteTime": {
     "end_time": "2023-08-17T23:39:28.297284261Z",
     "start_time": "2023-08-17T23:39:26.845758865Z"
    }
   },
   "outputs": [
    {
     "ename": "TracerBoolConversionError",
     "evalue": "Attempted boolean conversion of traced array with shape bool[1]..\nThe error occurred while tracing the function forward at /home/skhajehabdollahi/PycharmProjects/ising-CA/JAXisingCA_local_connectivity_xi.py:35 for jit. This value became a tracer due to JAX operations on these lines:\n\n  operation a:key<fry>[] = random_wrap[impl=fry] b\n    from line /home/skhajehabdollahi/PycharmProjects/ising-CA/JAXisingCA_local_connectivity_xi.py:42:24 (forward)\n\n  operation a:f32[1] = pjit[\n  jaxpr={ lambda ; b:key<fry>[] c:f32[] d:f32[]. let\n      e:f32[] = convert_element_type[new_dtype=float32 weak_type=False] c\n      f:f32[] = convert_element_type[new_dtype=float32 weak_type=False] d\n      g:f32[1] = broadcast_in_dim[broadcast_dimensions=() shape=(1,)] e\n      h:f32[1] = broadcast_in_dim[broadcast_dimensions=() shape=(1,)] f\n      i:u32[1] = random_bits[bit_width=32 shape=(1,)] b\n      j:u32[1] = shift_right_logical i 9\n      k:u32[1] = or j 1065353216\n      l:f32[1] = bitcast_convert_type[new_dtype=float32] k\n      m:f32[1] = sub l 1.0\n      n:f32[1] = sub h g\n      o:f32[1] = mul m n\n      p:f32[1] = add o g\n      q:f32[1] = max g p\n    in (q,) }\n  name=_uniform\n] r s t\n    from line /home/skhajehabdollahi/PycharmProjects/ising-CA/JAXisingCA_local_connectivity_xi.py:50:20 (forward)\n\n  operation a:f32[] = convert_element_type[new_dtype=float32 weak_type=False] b\n    from line /home/skhajehabdollahi/PycharmProjects/ising-CA/JAXisingCA_local_connectivity_xi.py:52:44 (forward)\nSee https://jax.readthedocs.io/en/latest/errors.html#jax.errors.TracerBoolConversionError",
     "output_type": "error",
     "traceback": [
      "\u001B[0;31m---------------------------------------------------------------------------\u001B[0m",
      "\u001B[0;31mTracerBoolConversionError\u001B[0m                 Traceback (most recent call last)",
      "Cell \u001B[0;32mIn[6], line 126\u001B[0m\n\u001B[1;32m    123\u001B[0m     nx \u001B[38;5;241m=\u001B[39m np\u001B[38;5;241m.\u001B[39mstack([\u001B[38;5;241m0\u001B[39m \u001B[38;5;241m*\u001B[39mnx, \u001B[38;5;241m154\u001B[39m\u001B[38;5;241m/\u001B[39m\u001B[38;5;241m255\u001B[39m\u001B[38;5;241m*\u001B[39mnx, \u001B[38;5;241m211\u001B[39m\u001B[38;5;241m/\u001B[39m\u001B[38;5;241m255\u001B[39m\u001B[38;5;241m*\u001B[39mnx])\u001B[38;5;241m.\u001B[39mtranspose(\u001B[38;5;241m1\u001B[39m, \u001B[38;5;241m2\u001B[39m, \u001B[38;5;241m0\u001B[39m)\n\u001B[1;32m    125\u001B[0m \u001B[38;5;28;01mif\u001B[39;00m time_ticking:\n\u001B[0;32m--> 126\u001B[0m     state, key \u001B[38;5;241m=\u001B[39m \u001B[43mjit_forward\u001B[49m\u001B[43m(\u001B[49m\u001B[43mstate\u001B[49m\u001B[43m,\u001B[49m\u001B[43m \u001B[49m\u001B[43mkey\u001B[49m\u001B[38;5;241;43m=\u001B[39;49m\u001B[43mkey\u001B[49m\u001B[43m)\u001B[49m\n\u001B[1;32m    127\u001B[0m     ticker \u001B[38;5;241m+\u001B[39m\u001B[38;5;241m=\u001B[39m \u001B[38;5;241m1\u001B[39m\n\u001B[1;32m    130\u001B[0m \u001B[38;5;28;01mif\u001B[39;00m export_imgs \u001B[38;5;129;01mand\u001B[39;00m time_ticking:\n",
      "    \u001B[0;31m[... skipping hidden 12 frame]\u001B[0m\n",
      "File \u001B[0;32m~/PycharmProjects/ising-CA/JAXisingCA_local_connectivity_xi.py:154\u001B[0m, in \u001B[0;36misingCA.forward\u001B[0;34m(self, x, key, make_obv)\u001B[0m\n\u001B[1;32m    153\u001B[0m \u001B[38;5;28;01mdef\u001B[39;00m \u001B[38;5;21mforward\u001B[39m(\u001B[38;5;28mself\u001B[39m, x, key, make_obv\u001B[38;5;241m=\u001B[39m\u001B[38;5;28;01mFalse\u001B[39;00m):\n\u001B[0;32m--> 154\u001B[0m     \u001B[38;5;28;01mreturn\u001B[39;00m \u001B[38;5;28;43mself\u001B[39;49m\u001B[38;5;241;43m.\u001B[39;49m\u001B[43mrule\u001B[49m\u001B[38;5;241;43m.\u001B[39;49m\u001B[43mforward\u001B[49m\u001B[43m(\u001B[49m\u001B[43mx\u001B[49m\u001B[43m,\u001B[49m\u001B[43m \u001B[49m\u001B[43mkey\u001B[49m\u001B[43m,\u001B[49m\u001B[43m \u001B[49m\u001B[43mmake_obv\u001B[49m\u001B[43m)\u001B[49m\n",
      "    \u001B[0;31m[... skipping hidden 12 frame]\u001B[0m\n",
      "File \u001B[0;32m~/PycharmProjects/ising-CA/JAXisingCA_local_connectivity_xi.py:52\u001B[0m, in \u001B[0;36mRule.forward\u001B[0;34m(self, x, key, make_obv)\u001B[0m\n\u001B[1;32m     50\u001B[0m rng_adapt \u001B[38;5;241m=\u001B[39m random\u001B[38;5;241m.\u001B[39muniform(subkeys[\u001B[38;5;241m1\u001B[39m], (\u001B[38;5;241m1\u001B[39m, ))\n\u001B[1;32m     51\u001B[0m adapt_thresh \u001B[38;5;241m=\u001B[39m \u001B[38;5;241m0.0\u001B[39m\n\u001B[0;32m---> 52\u001B[0m adapt_cond \u001B[38;5;241m=\u001B[39m \u001B[38;5;28;43mbool\u001B[39;49m\u001B[43m(\u001B[49m\u001B[38;5;28;43mself\u001B[39;49m\u001B[38;5;241;43m.\u001B[39;49m\u001B[43mJ_adapt\u001B[49m\u001B[43m \u001B[49m\u001B[38;5;129;43;01mand\u001B[39;49;00m\u001B[43m \u001B[49m\u001B[43m(\u001B[49m\u001B[43mrng_adapt\u001B[49m\u001B[43m \u001B[49m\u001B[38;5;241;43m>\u001B[39;49m\u001B[43m \u001B[49m\u001B[43madapt_thresh\u001B[49m\u001B[43m)\u001B[49m\u001B[43m)\u001B[49m\n\u001B[1;32m     54\u001B[0m \u001B[38;5;66;03m# if adapt_cond:\u001B[39;00m\n\u001B[1;32m     55\u001B[0m \u001B[38;5;66;03m#     self.J_adaptation(tr)\u001B[39;00m\n\u001B[1;32m     57\u001B[0m \u001B[38;5;28mself\u001B[39m\u001B[38;5;241m.\u001B[39mnearest_neighbours \u001B[38;5;241m=\u001B[39m jax\u001B[38;5;241m.\u001B[39mlax\u001B[38;5;241m.\u001B[39mcond(adapt_cond,\n\u001B[1;32m     58\u001B[0m                                        \u001B[38;5;28mself\u001B[39m\u001B[38;5;241m.\u001B[39mJ_adaptation,\n\u001B[1;32m     59\u001B[0m                                        \u001B[38;5;28;01mlambda\u001B[39;00m x, y: \u001B[38;5;28mself\u001B[39m\u001B[38;5;241m.\u001B[39mnearest_neighbours,\n\u001B[1;32m     60\u001B[0m                                        tr, subkeys[\u001B[38;5;241m2\u001B[39m])\n",
      "    \u001B[0;31m[... skipping hidden 1 frame]\u001B[0m\n",
      "File \u001B[0;32m~/.pyenv/versions/isingCA/lib/python3.11/site-packages/jax/_src/core.py:1383\u001B[0m, in \u001B[0;36mconcretization_function_error.<locals>.error\u001B[0;34m(self, arg)\u001B[0m\n\u001B[1;32m   1382\u001B[0m \u001B[38;5;28;01mdef\u001B[39;00m \u001B[38;5;21merror\u001B[39m(\u001B[38;5;28mself\u001B[39m, arg):\n\u001B[0;32m-> 1383\u001B[0m   \u001B[38;5;28;01mraise\u001B[39;00m TracerBoolConversionError(arg)\n",
      "\u001B[0;31mTracerBoolConversionError\u001B[0m: Attempted boolean conversion of traced array with shape bool[1]..\nThe error occurred while tracing the function forward at /home/skhajehabdollahi/PycharmProjects/ising-CA/JAXisingCA_local_connectivity_xi.py:35 for jit. This value became a tracer due to JAX operations on these lines:\n\n  operation a:key<fry>[] = random_wrap[impl=fry] b\n    from line /home/skhajehabdollahi/PycharmProjects/ising-CA/JAXisingCA_local_connectivity_xi.py:42:24 (forward)\n\n  operation a:f32[1] = pjit[\n  jaxpr={ lambda ; b:key<fry>[] c:f32[] d:f32[]. let\n      e:f32[] = convert_element_type[new_dtype=float32 weak_type=False] c\n      f:f32[] = convert_element_type[new_dtype=float32 weak_type=False] d\n      g:f32[1] = broadcast_in_dim[broadcast_dimensions=() shape=(1,)] e\n      h:f32[1] = broadcast_in_dim[broadcast_dimensions=() shape=(1,)] f\n      i:u32[1] = random_bits[bit_width=32 shape=(1,)] b\n      j:u32[1] = shift_right_logical i 9\n      k:u32[1] = or j 1065353216\n      l:f32[1] = bitcast_convert_type[new_dtype=float32] k\n      m:f32[1] = sub l 1.0\n      n:f32[1] = sub h g\n      o:f32[1] = mul m n\n      p:f32[1] = add o g\n      q:f32[1] = max g p\n    in (q,) }\n  name=_uniform\n] r s t\n    from line /home/skhajehabdollahi/PycharmProjects/ising-CA/JAXisingCA_local_connectivity_xi.py:50:20 (forward)\n\n  operation a:f32[] = convert_element_type[new_dtype=float32 weak_type=False] b\n    from line /home/skhajehabdollahi/PycharmProjects/ising-CA/JAXisingCA_local_connectivity_xi.py:52:44 (forward)\nSee https://jax.readthedocs.io/en/latest/errors.html#jax.errors.TracerBoolConversionError"
     ]
    }
   ],
   "source": [
    "# resolution of grid\n",
    "RESX=RES[0]\n",
    "RESY=RES[1]\n",
    "\n",
    "# state[0, -1] = 0.1 * torch.ones_like(state[0, -1])\n",
    "# brush properties\n",
    "r = RESX//20\n",
    "s = 0.1\n",
    "\n",
    "# pygame stuff\n",
    "######################################\n",
    "pygame.init()\n",
    "size = RESX, RESY\n",
    "# screen = pygame.display.set_mode(size)\n",
    "screen = pygame.Surface(size)\n",
    "UPSCALE = 3\n",
    "\n",
    "RESXup, RESYup = int(RESX*UPSCALE), int(RESY*UPSCALE)\n",
    "upscaled_screen = pygame.display.set_mode([RESXup, RESYup])\n",
    "\n",
    "running = True\n",
    "time_ticking = True\n",
    "LMB_trigger = False\n",
    "RMB_trigger = False\n",
    "WHEEL_trigger = False\n",
    "cdim_order = np.arange(0, state.shape[1] + 1)\n",
    "beta = BETA\n",
    "\n",
    "clock = pygame.time.Clock()\n",
    "font = pygame.font.SysFont(\"Noto Sans\", 12)\n",
    "def update_fps(clock, font):\n",
    "    fps = str(int(clock.get_fps()))\n",
    "    fps_text = font.render(fps, 1, pygame.Color(\"white\"))\n",
    "    fps_bg = pygame.Surface((fps_text.get_height(),fps_text.get_width()))  # the size of your rect\n",
    "    fps_bg.set_alpha(50)                # alpha level\n",
    "    fps_bg.fill((255,255,255))           # this fills the entire surface\n",
    "\n",
    "    fps_surf = pygame.Surface((fps_bg.get_height(), fps_bg.get_width()))\n",
    "    fps_surf.blit(fps_bg, (0, 0))\n",
    "    fps_surf.blit(fps_text, (0, 0))\n",
    "    return fps_surf\n",
    "######################################\n",
    "\n",
    "ticker = 0.\n",
    "export_imgs = False\n",
    "imgs = []\n",
    "\n",
    "# stats to save\n",
    "temps = []\n",
    "mag = []\n",
    "\n",
    "while running:              \n",
    "    for event in pygame.event.get():\n",
    "        if event.type == pygame.QUIT:\n",
    "            running = False\n",
    "            \n",
    "        if event.type == pygame.MOUSEBUTTONDOWN:\n",
    "            if event.button == 1:\n",
    "                LMB_trigger = True\n",
    "            if event.button == 3:\n",
    "                RMB_trigger = True\n",
    "        if event.type == pygame.MOUSEBUTTONUP:\n",
    "            if event.button == 1:\n",
    "                LMB_trigger = False\n",
    "            if event.button == 3:\n",
    "                RMB_trigger = False\n",
    "                \n",
    "        if event.type == pygame.MOUSEWHEEL:\n",
    "            WHEEL_trigger = True\n",
    "            direction = event.y\n",
    "            \n",
    "        if event.type == pygame.MOUSEBUTTONUP and event.button == 2:\n",
    "            # scroll through channel dims\n",
    "            cdim_order = np.arange(0, state.shape[1] + 1)\n",
    "                \n",
    "        if event.type == pygame.KEYDOWN and event.key == pygame.K_o:\n",
    "            ca.rule.J_adapt = not ca.rule.J_adapt\n",
    "    \n",
    "        if event.type == pygame.KEYDOWN and event.key == pygame.K_e:\n",
    "            export_imgs = not export_imgs\n",
    "        if event.type == pygame.KEYDOWN and event.key == pygame.K_p:\n",
    "            # pause/toggle time\n",
    "            time_ticking = not time_ticking\n",
    "            \n",
    "        if event.type== pygame.KEYDOWN and event.key == pygame.K_r:\n",
    "            # start from seed \n",
    "            key = random.split(key)[0]\n",
    "            state = jax.lax.stop_gradient(ca.initGrid(key))\n",
    "        if event.type == pygame.KEYDOWN and event.key == pygame.K_b:\n",
    "            BRUSH_TOGGLE = not BRUSH_TOGGLE\n",
    "            \n",
    "        if event.type == pygame.KEYDOWN and event.key == pygame.K_9:\n",
    "            ca.rule.adapt_lr /= 2.\n",
    "            print(f'lr: {ca.rule.adapt_lr :.4f}')\n",
    "        if event.type == pygame.KEYDOWN and event.key == pygame.K_0:\n",
    "            ca.rule.adapt_lr *= 2.\n",
    "            print(f'lr: {ca.rule.adapt_lr :.4f}')\n",
    "\n",
    "    mouse_pos = pygame.mouse.get_pos()\n",
    "    if LMB_trigger:\n",
    "        state = LMB_make(state, r=r, s=s)\n",
    "    if RMB_trigger:\n",
    "        state = RMB_del(state, r=r, s=s)\n",
    "    \n",
    "    \n",
    "    if WHEEL_trigger:\n",
    "#             ca.rule.beta = WHEEL_beta(ca.rule.beta, direction)\n",
    "        cdim_order = WHEEL_permute(cdim_order, direction, mod=len(cdim_order))\n",
    "        WHEEL_trigger = False\n",
    "    if cdim_order[0] == len(cdim_order) - 1:\n",
    "        nx = (ca.rule.nearest_neighbours).sum(axis=1)[0]\n",
    "        # nx = np.log1p(nx)\n",
    "        nx = 0.88 * min_max(nx) * 255.\n",
    "        nx = np.stack([234/255*nx, 170/255*nx, 31/255*nx]).transpose(1, 2, 0)\n",
    "    elif cdim_order[0] == 1:\n",
    "        nx = 0.5 * (state[0, cdim_order[0], :, :] + 1) * 230.\n",
    "        nx = np.stack([0 *nx, 154/255*nx, 211/255*nx]).transpose(1, 2, 0)\n",
    "        nx2 = 0.98 * (state[0, 0, :, :] + 1) * 20.\n",
    "        nx2 = np.stack([208/255*nx2, 80/255*nx2, 250/255*nx2]).transpose(1, 2, 0)\n",
    "        nx += nx2\n",
    "    else:\n",
    "        nx = 0.5 * (state[0, cdim_order[0], :, :] + 1) * 255.\n",
    "        nx = np.stack([0 *nx, 154/255*nx, 211/255*nx]).transpose(1, 2, 0)\n",
    "\n",
    "    if time_ticking:\n",
    "        state, key = jit_forward(state, key=key)\n",
    "        ticker += 1\n",
    "\n",
    "\n",
    "    if export_imgs and time_ticking:\n",
    "        imgs.append(nx)\n",
    "        \n",
    "    mat_draw = min_max(np.array(ca.rule.nearest_neighbours[0, :, RESX//2, RESY//2].reshape(2*RADIUS + 1,2*RADIUS + 1)))\n",
    "    connectivity_mat = pygame.transform.scale(pygame.surfarray.make_surface(mat_draw*255), (50, 50))\n",
    "    \n",
    "    pygame.surfarray.blit_array(screen, nx)   \n",
    "    screen.blit(connectivity_mat, (RESX - 50,0))\n",
    "    \n",
    "    frame = pygame.transform.scale(screen, (RESXup, RESYup))\n",
    "    upscaled_screen.blit(frame, frame.get_rect())\n",
    "    upscaled_screen.blit(update_fps(clock, font), (10,0))\n",
    "    \n",
    "    magnetization = np.mean(state[0, 0])\n",
    "    connectivity = np.mean(ca.rule.nearest_neighbours.sum(axis=1))\n",
    "    connectivity2 = ca.rule.nearest_neighbours\n",
    "    zero_mask = np.abs(connectivity2) > 1e-6\n",
    "    connectivity2 = connectivity2.at[zero_mask].set(np.nan)\n",
    "    connectivity2 = np.nanmean(connectivity2, axis=1).mean()\n",
    "\n",
    "    upscaled_screen.blit(print_something(magnetization), (10,10))\n",
    "    upscaled_screen.blit(print_something(connectivity), (10,20))\n",
    "    upscaled_screen.blit(print_something(connectivity2), (35,20))\n",
    "    pygame.display.flip()\n",
    "    clock.tick(240)\n",
    "    \n",
    "pygame.quit()\n"
   ]
  },
  {
   "cell_type": "code",
   "execution_count": null,
   "outputs": [],
   "source": [
    "ca.rule.key, subkey = random.split(ca.rule.key)\n",
    "rng_adapt = random.uniform(subkey, (1, ))\n",
    "adapt_thresh = 0.0\n",
    "ca.rule.J_adapt and (rng_adapt > adapt_thresh)"
   ],
   "metadata": {
    "collapsed": false,
    "ExecuteTime": {
     "end_time": "2023-08-17T23:39:28.297698254Z",
     "start_time": "2023-08-17T23:39:28.297493542Z"
    }
   },
   "id": "3c865211194add70"
  },
  {
   "cell_type": "code",
   "execution_count": null,
   "outputs": [],
   "source": [
    "k = ca.rule.nearest_neighbours.mean(axis=[-2, -1])\n",
    "plt.imshow(k.reshape(2*[2*RADIUS+1])); plt.colorbar()"
   ],
   "metadata": {
    "collapsed": false,
    "ExecuteTime": {
     "end_time": "2023-08-17T23:39:28.299451026Z",
     "start_time": "2023-08-17T23:39:28.298346658Z"
    }
   },
   "id": "984fe6d8598435ac"
  },
  {
   "cell_type": "code",
   "execution_count": null,
   "id": "ee5dbfa6",
   "metadata": {
    "ExecuteTime": {
     "start_time": "2023-08-17T23:39:28.340836036Z"
    }
   },
   "outputs": [],
   "source": [
    "data = ca.rule.nearest_neighbours.cpu()\n",
    "zero_mask = data.abs() > 1e-6\n",
    "data = data[zero_mask].numpy().reshape(-1)\n",
    "plt.hist(data, 100, alpha=0.8, density=True, label=r'$J_{ij}$'); #plt.yscale('log'); # plt.xscale('log')\n",
    "\n",
    "data2 = ca.rule.nearest_neighbours.cpu()\n",
    "zero_mask = data2.abs() > 1e-6\n",
    "data2[~zero_mask] = torch.nan\n",
    "data2 = torch.nanmean(data2, dim=1).numpy().reshape(-1)\n",
    "plt.hist(data2, 100, alpha=0.8, density=True, label=r'$\\langle J_i \\rangle=\\frac{1}{N} \\sum_{j} J_{ij}$');\n",
    "\n",
    "plt.legend(fontsize=12)\n",
    "plt.ylabel('Density')\n",
    "\n",
    "# title_str = fr'$\\beta_c J_1 = 0.44; \\beta_1 \\langle J^{{t_f}}_i \\rangle = {np.mean(data2):.3f}$'\n",
    "title_str = fr'$\\langle J_i \\rangle = {np.mean(data2):.3f}$'\n",
    "plt.title(title_str);"
   ]
  },
  {
   "cell_type": "code",
   "execution_count": null,
   "outputs": [],
   "source": [
    "# plt.hist(state[0, 0].reshape(-1).cpu().numpy(), 100); #plt.yscale('log');\n",
    "plt.hist(state[0, 1].reshape(-1).cpu().numpy(), 100);\n",
    "plt.title(rf'Trace distribution, $\\langle s_i^t \\rangle = {state[0, 1].mean().cpu().numpy():.3f}$');"
   ],
   "metadata": {
    "collapsed": false,
    "ExecuteTime": {
     "end_time": "2023-08-17T23:39:28.341131433Z",
     "start_time": "2023-08-17T23:39:28.340929826Z"
    }
   },
   "id": "ef2c359230d1ea21"
  },
  {
   "cell_type": "code",
   "execution_count": null,
   "id": "1b178dc8",
   "metadata": {
    "ExecuteTime": {
     "start_time": "2023-08-17T23:39:28.340962466Z"
    }
   },
   "outputs": [],
   "source": [
    "plt.figure(figsize=(10, 5))\n",
    "in_degree = ca.rule.nearest_neighbours.clone()\n",
    "# plot1[:, :, zmask_flat] = torch.nan\n",
    "in_degree = in_degree.reshape(1, (2 * RADIUS + 1) ** 2, RESX, RESY).sum(dim=1).cpu().numpy()[0]\n",
    "# vmax=np.median(plot1) + np.std(plot1)\n",
    "plt.imshow(in_degree.T); plt.colorbar()\n",
    "plt.title('In Degree')"
   ]
  },
  {
   "cell_type": "code",
   "execution_count": null,
   "outputs": [],
   "source": [
    "plt.figure(figsize=(10, 5))\n",
    "out_degree = F.fold(ca.rule.nearest_neighbours, output_size=(RESX+2*RADIUS, RESY+2*RADIUS), kernel_size=(2*RADIUS + 1))[0, 0].cpu().numpy()[RADIUS:-RADIUS, RADIUS:-RADIUS]\n",
    "\n",
    "# vmax=np.median(plot2) + np.std(plot2)\n",
    "plt.imshow(out_degree.T); plt.colorbar()\n",
    "plt.title('Out Degree')"
   ],
   "metadata": {
    "collapsed": false,
    "ExecuteTime": {
     "start_time": "2023-08-17T23:39:28.340978647Z"
    }
   },
   "id": "86f5350ab29e0bb3"
  },
  {
   "cell_type": "code",
   "execution_count": null,
   "outputs": [],
   "source": [
    "import time\n",
    "import cv2\n",
    "\n",
    "# Set up video writer\n",
    "fname = time.strftime(\"%Y%m%d-%H%M%S\")\n",
    "output_file = f'videos/CA-{fname}.mp4'\n",
    "fourcc = cv2.VideoWriter_fourcc(*'XVID')\n",
    "fps = 450\n",
    "frame_size = (RESY, RESX)\n",
    "out = cv2.VideoWriter(output_file, fourcc, fps, frame_size)\n",
    "\n",
    "# Iterate through list of arrays and write each frame to the video writer\n",
    "for img in imgs:\n",
    "\n",
    "    # Convert image from RGB to BGR\n",
    "    img_out = img.astype('uint8').transpose(1, 0, 2)\n",
    "    img_out = cv2.cvtColor(img_out, cv2.COLOR_RGB2BGR)\n",
    "    out.write(img_out)\n",
    "\n",
    "# Release the video writer\n",
    "out.release()"
   ],
   "metadata": {
    "collapsed": false,
    "ExecuteTime": {
     "start_time": "2023-08-17T23:39:28.340993554Z"
    }
   },
   "id": "2c2da3c11a97b539"
  }
 ],
 "metadata": {
  "kernelspec": {
   "display_name": "Python 3 (ipykernel)",
   "language": "python",
   "name": "python3"
  },
  "language_info": {
   "codemirror_mode": {
    "name": "ipython",
    "version": 3
   },
   "file_extension": ".py",
   "mimetype": "text/x-python",
   "name": "python",
   "nbconvert_exporter": "python",
   "pygments_lexer": "ipython3",
   "version": "3.9.15"
  }
 },
 "nbformat": 4,
 "nbformat_minor": 5
}
