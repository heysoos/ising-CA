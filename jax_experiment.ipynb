{
 "cells": [
  {
   "cell_type": "code",
   "execution_count": 1,
   "id": "initial_id",
   "metadata": {
    "collapsed": true,
    "ExecuteTime": {
     "end_time": "2023-08-17T20:04:57.277295215Z",
     "start_time": "2023-08-17T20:04:56.815493421Z"
    }
   },
   "outputs": [],
   "source": [
    "import jax\n",
    "import jax.numpy as jnp\n",
    "from jax import random, lax\n",
    "\n",
    "import matplotlib.pyplot as plt"
   ]
  },
  {
   "cell_type": "code",
   "execution_count": 2,
   "outputs": [],
   "source": [
    "RESX = RESY = 25\n",
    "numel = RESX * RESY\n",
    "RADIUS = 5\n",
    "Rk = 2*RADIUS + 1\n",
    "\n",
    "xm, ym = jnp.meshgrid(jnp.linspace(-1, 1, Rk), jnp.linspace(-1, 1, Rk))\n",
    "rm = jnp.sqrt(xm ** 2 + ym ** 2)\n",
    "exp_rm = jnp.exp(-rm ** 2)\n",
    "condition = rm < 1.\n",
    "null = jnp.zeros_like(rm)\n",
    "rm = jnp.expand_dims(jnp.where(condition, exp_rm, null), [0, -1])"
   ],
   "metadata": {
    "collapsed": false,
    "ExecuteTime": {
     "end_time": "2023-08-17T19:08:20.134103048Z",
     "start_time": "2023-08-17T19:08:18.156587669Z"
    }
   },
   "id": "8768052610e21772"
  },
  {
   "cell_type": "code",
   "execution_count": 3,
   "outputs": [
    {
     "data": {
      "text/plain": "<matplotlib.image.AxesImage at 0x7faac63ed3d0>"
     },
     "execution_count": 3,
     "metadata": {},
     "output_type": "execute_result"
    },
    {
     "data": {
      "text/plain": "<Figure size 640x480 with 1 Axes>",
      "image/png": "[encoded data removed]"
     },
     "metadata": {},
     "output_type": "display_data"
    }
   ],
   "source": [
    "plt.imshow(rm[0, :, :, 0])"
   ],
   "metadata": {
    "collapsed": false,
    "ExecuteTime": {
     "end_time": "2023-08-17T19:08:20.504143969Z",
     "start_time": "2023-08-17T19:08:20.141091418Z"
    }
   },
   "id": "909bd7980bfaffe8"
  },
  {
   "cell_type": "code",
   "execution_count": 4,
   "outputs": [
    {
     "data": {
      "text/plain": "(1, 121, 25, 25)"
     },
     "execution_count": 4,
     "metadata": {},
     "output_type": "execute_result"
    }
   ],
   "source": [
    "seed = 1234\n",
    "key = random.PRNGKey(seed)\n",
    "\n",
    "nearest_neighbours = 1 + random.uniform(key, (Rk, Rk, RESX, RESY))\n",
    "nearest_neighbours = nearest_neighbours.at[RADIUS, RADIUS, :, :].set(0)\n",
    "nearest_neighbours = nearest_neighbours.reshape(1, -1, RESX, RESY)\n",
    "nearest_neighbours.shape\n"
   ],
   "metadata": {
    "collapsed": false,
    "ExecuteTime": {
     "end_time": "2023-08-17T19:08:20.844112056Z",
     "start_time": "2023-08-17T19:08:20.511633868Z"
    }
   },
   "id": "3676a1421e23f9a6"
  },
  {
   "cell_type": "code",
   "execution_count": 5,
   "outputs": [],
   "source": [
    "def initGrid(RES, key):\n",
    "    shape = RES\n",
    "    key_s, key_b = random.split(key)\n",
    "    BETA = 1\n",
    "    \n",
    "    rand_s = random.bernoulli(key_s, p=0.5, shape=(1, 1, shape[0], shape[1])) * 2. - 1.\n",
    "    rand_tr = jnp.zeros((1, 1, shape[0], shape[1]), dtype=jnp.float32)\n",
    "    rand_b = jnp.ones((1, 1, shape[0], shape[1]), dtype=jnp.float32) * BETA\n",
    "    \n",
    "    return jnp.concatenate([rand_s, rand_tr, rand_b], axis=1)\n",
    "\n",
    "x = initGrid((RESX, RESY), key)"
   ],
   "metadata": {
    "collapsed": false,
    "ExecuteTime": {
     "end_time": "2023-08-17T19:08:21.253203880Z",
     "start_time": "2023-08-17T19:08:20.852254519Z"
    }
   },
   "id": "e83ef3e9571610e"
  },
  {
   "cell_type": "code",
   "execution_count": 6,
   "outputs": [
    {
     "data": {
      "text/plain": "(1, 1, 35, 35)"
     },
     "execution_count": 6,
     "metadata": {},
     "output_type": "execute_result"
    }
   ],
   "source": [
    "s = x[:, [0], ...]\n",
    "tr = x[:, [1], ...]\n",
    "b = x[:, [-1], ...]\n",
    "shape = s.shape[1:]\n",
    "\n",
    "s_pad = jnp.pad(s, [(0, 0), (0, 0), (RADIUS, RADIUS), (RADIUS, RADIUS)], mode='wrap')\n",
    "s_pad.shape"
   ],
   "metadata": {
    "collapsed": false,
    "ExecuteTime": {
     "end_time": "2023-08-17T19:08:21.455096433Z",
     "start_time": "2023-08-17T19:08:21.258056374Z"
    }
   },
   "id": "eadc1df75eb5ca31"
  },
  {
   "cell_type": "code",
   "execution_count": 7,
   "outputs": [],
   "source": [
    "def jax_unfold(arr, k_size):\n",
    "    arr_unf = jax.lax.conv_general_dilated_patches(\n",
    "        lhs=arr,\n",
    "        filter_shape=(k_size,k_size),\n",
    "        window_strides=(1,1),\n",
    "        padding = 'VALID',\n",
    "        dimension_numbers  = ('NCWH', 'WHIO', 'NCWH'))\n",
    "    return arr_unf"
   ],
   "metadata": {
    "collapsed": false,
    "ExecuteTime": {
     "end_time": "2023-08-17T19:08:21.471246176Z",
     "start_time": "2023-08-17T19:08:21.456245751Z"
    }
   },
   "id": "a2596698edf67b45"
  },
  {
   "cell_type": "code",
   "execution_count": 8,
   "outputs": [
    {
     "data": {
      "text/plain": "(1, 121, 25, 25)"
     },
     "execution_count": 8,
     "metadata": {},
     "output_type": "execute_result"
    }
   ],
   "source": [
    "s_pad_unf = jax_unfold(s_pad, Rk)\n",
    "s_pad_unf.shape"
   ],
   "metadata": {
    "collapsed": false,
    "ExecuteTime": {
     "end_time": "2023-08-17T19:08:22.456976926Z",
     "start_time": "2023-08-17T19:08:21.458640037Z"
    }
   },
   "id": "22f8c9721024bceb"
  },
  {
   "cell_type": "code",
   "execution_count": 9,
   "outputs": [
    {
     "data": {
      "text/plain": "(1, 121, 25, 25)"
     },
     "execution_count": 9,
     "metadata": {},
     "output_type": "execute_result"
    }
   ],
   "source": [
    "(s_pad_unf * nearest_neighbours).shape"
   ],
   "metadata": {
    "collapsed": false,
    "ExecuteTime": {
     "end_time": "2023-08-17T19:08:22.501903124Z",
     "start_time": "2023-08-17T19:08:22.459834354Z"
    }
   },
   "id": "f6fab71ff3a24daa"
  },
  {
   "cell_type": "code",
   "execution_count": 10,
   "outputs": [
    {
     "data": {
      "text/plain": "(1, 121, 25, 25)"
     },
     "execution_count": 10,
     "metadata": {},
     "output_type": "execute_result"
    }
   ],
   "source": [
    "nearest_neighbours.shape"
   ],
   "metadata": {
    "collapsed": false,
    "ExecuteTime": {
     "end_time": "2023-08-17T19:08:22.502116572Z",
     "start_time": "2023-08-17T19:08:22.498925457Z"
    }
   },
   "id": "a8ac04f47ba1724c"
  },
  {
   "cell_type": "code",
   "execution_count": 11,
   "outputs": [],
   "source": [
    "s = x[:, [0], ...]\n",
    "tr = x[:, [1], ...]\n",
    "b = x[:, [-1], ...]\n",
    "shape = s.shape\n",
    "Rk = RADIUS\n",
    "\n",
    "s_pad = jnp.pad(s, [(0, 0), (0, 0), (Rk, Rk), (Rk, Rk)], mode='wrap')\n",
    "\n",
    "sJs = 2 * jax_unfold(s, 1) * (jax_unfold(s_pad, 2 * Rk + 1) * nearest_neighbours)\n",
    "delta_e = sJs.sum(axis=1).reshape(*shape)\n",
    "E = (-0.5 * delta_e)"
   ],
   "metadata": {
    "collapsed": false,
    "ExecuteTime": {
     "end_time": "2023-08-17T19:08:22.912141234Z",
     "start_time": "2023-08-17T19:08:22.502046106Z"
    }
   },
   "id": "e90ac5a5cb0e8e35"
  },
  {
   "cell_type": "code",
   "execution_count": 12,
   "outputs": [],
   "source": [
    "make_obv = True\n",
    "\n",
    "J_adapt = False\n",
    "adapt_lr = 0.5\n",
    "alpha = 0.9\n",
    "h = 0.01\n",
    "eps = 0.01\n",
    "max_weight = 4.\n",
    "trace_memory = 0.995\n",
    "\n",
    "if make_obv:\n",
    "    ### OBSERVATIONS ###\n",
    "    e = E.mean() / 4.\n",
    "    e2 = e**2\n",
    "\n",
    "    m = s.mean()\n",
    "    m2 = m ** 2\n",
    "\n",
    "    obvs = jnp.stack([e, e2, m, m2], axis=0)\n",
    "#####################\n",
    "\n",
    "definite_flip = delta_e <= 0\n",
    "p = jnp.exp(-delta_e * b)\n",
    "p = jnp.where(definite_flip, jnp.ones_like(s), p)\n",
    "\n",
    "key, subkey = random.split(key)\n",
    "flip_rand = random.uniform(subkey, shape)\n",
    "\n",
    "key, subkey = random.split(key)\n",
    "dropout_mask = (random.uniform(subkey, shape) > 0.5)\n",
    "flip = -2. * jnp.logical_and(flip_rand < p, dropout_mask) + 1\n",
    "\n",
    "key, subkey = random.split(key)\n",
    "rng_adapt = random.uniform(subkey, (1, ))\n",
    "adapt_thresh = 0.5\n",
    "\n",
    "if J_adapt and rng_adapt > adapt_thresh:\n",
    "    s_i = jax_unfold(tr, 1)\n",
    "    \n",
    "    tr_pad = jnp.pad(tr, [(0, 0), (0, 0), (Rk, Rk), (Rk, Rk)], mode='wrap')\n",
    "    s_j = jax_unfold(tr_pad, 2*Rk+1)\n",
    "\n",
    "    growth = h / Rk * (1 - s_i.abs()) * (1 - s_j.abs())  # correlate\n",
    "    # growth = self.h / Rk\n",
    "    # decay = self.eps * (s_j.mean(dim=1, keepdim=True) * s_i)  # decorrelate if mag.\n",
    "    decay = eps * (s_j * s_i)  # decorrelate if mag.\n",
    "    dJ = (growth - decay)  # * self.rm.reshape(1, -1, 1)\n",
    "\n",
    "    key, subkey = random.split(key)\n",
    "    conn_shape = (1, int(jnp.product(shape)), 2*Rk+1, 2*Rk+1)\n",
    "    adapt_mask = random.uniform(subkey, conn_shape) > 0.5     \n",
    "    \n",
    "    new_J = nearest_neighbours + \\\n",
    "            dJ * adapt_lr * adapt_mask # stochastic dJ\n",
    "    new_J[:, :, Rk, Rk] = 0.  # set center pixel to 0.\n",
    "\n",
    "    # set corners to 0\n",
    "    new_J[:, :, -1, -1] = 0.\n",
    "    new_J[:, :, -1, 0] = 0.\n",
    "    new_J[:, :, 0, -1] = 0.\n",
    "    new_J[:, :, 0, 0] = 0.\n",
    "\n",
    "    nearest_neighbours = ((1 - alpha) * nearest_neighbours + alpha * new_J)\n",
    "\n",
    "tr = trace_memory * tr + (1 - trace_memory) * s\n",
    "\n",
    "if make_obv:\n",
    "    x, obvs = jnp.concatenate([(s * flip), tr, b], axis=1), obvs\n",
    "else:\n",
    "    x = jnp.concatenate([(s * flip), tr, b], axis=1)"
   ],
   "metadata": {
    "collapsed": false,
    "ExecuteTime": {
     "end_time": "2023-08-17T19:08:23.620848611Z",
     "start_time": "2023-08-17T19:08:22.919317830Z"
    }
   },
   "id": "86568aec2c34e33a"
  },
  {
   "cell_type": "code",
   "execution_count": 3,
   "outputs": [],
   "source": [
    "from JAX_isingCA_local_connectivity_xi import isingCA\n",
    "seed = 1234\n",
    "key = random.PRNGKey(seed)\n",
    "RADIUS = 5\n",
    "ca = isingCA(key, (100, 100), RADIUS=RADIUS)\n",
    "state = ca.initGrid()\n",
    "\n",
    "# %timeit ca.forward(state)"
   ],
   "metadata": {
    "collapsed": false,
    "ExecuteTime": {
     "end_time": "2023-08-17T20:05:06.045406674Z",
     "start_time": "2023-08-17T20:05:04.707769880Z"
    }
   },
   "id": "52b43e53abf9379d"
  },
  {
   "cell_type": "code",
   "execution_count": 6,
   "outputs": [
    {
     "data": {
      "text/plain": "(100, 100)"
     },
     "execution_count": 6,
     "metadata": {},
     "output_type": "execute_result"
    }
   ],
   "source": [
    "(ca.rule.nearest_neighbours).sum(axis=1)[0].shape"
   ],
   "metadata": {
    "collapsed": false,
    "ExecuteTime": {
     "end_time": "2023-08-17T20:06:29.107350252Z",
     "start_time": "2023-08-17T20:06:28.849758565Z"
    }
   },
   "id": "2e081e66b8fc24cb"
  },
  {
   "cell_type": "code",
   "execution_count": 31,
   "outputs": [
    {
     "name": "stdout",
     "output_type": "stream",
     "text": [
      "87.1 µs ± 634 ns per loop (mean ± std. dev. of 7 runs, 10,000 loops each)\n"
     ]
    }
   ],
   "source": [
    "forward_jit = jax.jit(ca.forward)\n",
    "%timeit forward_jit(state)"
   ],
   "metadata": {
    "collapsed": false,
    "ExecuteTime": {
     "end_time": "2023-08-17T19:50:27.046556141Z",
     "start_time": "2023-08-17T19:50:19.842320303Z"
    }
   },
   "id": "8705dc9fd08aff8a"
  },
  {
   "cell_type": "code",
   "execution_count": 32,
   "outputs": [
    {
     "name": "stdout",
     "output_type": "stream",
     "text": [
      "435 µs ± 5.21 µs per loop (mean ± std. dev. of 7 runs, 1,000 loops each)\n"
     ]
    }
   ],
   "source": [
    "from isingCA_local_connectivity_xi import isingCA\n",
    "ca = isingCA(RES=(100, 100), RADIUS=RADIUS)\n",
    "state = ca.initGrid()\n",
    "\n",
    "%timeit ca.forward(state)"
   ],
   "metadata": {
    "collapsed": false,
    "ExecuteTime": {
     "end_time": "2023-08-17T19:50:39.992315200Z",
     "start_time": "2023-08-17T19:50:36.130290406Z"
    }
   },
   "id": "1a5658f978fe6b69"
  },
  {
   "cell_type": "code",
   "execution_count": null,
   "outputs": [],
   "source": [],
   "metadata": {
    "collapsed": false
   },
   "id": "ca298c13ec605a12"
  }
 ],
 "metadata": {
  "kernelspec": {
   "display_name": "Python 3",
   "language": "python",
   "name": "python3"
  },
  "language_info": {
   "codemirror_mode": {
    "name": "ipython",
    "version": 2
   },
   "file_extension": ".py",
   "mimetype": "text/x-python",
   "name": "python",
   "nbconvert_exporter": "python",
   "pygments_lexer": "ipython2",
   "version": "2.7.6"
  }
 },
 "nbformat": 4,
 "nbformat_minor": 5
}
