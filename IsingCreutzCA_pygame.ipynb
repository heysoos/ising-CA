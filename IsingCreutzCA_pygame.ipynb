{
 "cells": [
  {
   "cell_type": "code",
   "execution_count": 80,
   "id": "practical-estonia",
   "metadata": {},
   "outputs": [],
   "source": [
    "import numpy as np\n",
    "import matplotlib.pyplot as plt\n",
    "\n",
    "import torch\n",
    "import torch.nn.functional as F\n",
    "\n",
    "import cv2\n",
    "import time\n",
    "\n",
    "from isingCreutzCA import isingCA\n",
    "import pygame"
   ]
  },
  {
   "cell_type": "code",
   "execution_count": 81,
   "id": "adapted-session",
   "metadata": {},
   "outputs": [],
   "source": [
    "from itertools import product\n",
    "\n",
    "# toggle the brush between two modes (shortcut B)\n",
    "BRUSH_TOGGLE = False\n",
    "\n",
    "def LMB_make(state, r=5, s=1):\n",
    "    '''\n",
    "    left click to make\n",
    "    r: radius of brush\n",
    "    s: smoothing / sigma\n",
    "    '''\n",
    "    xcl, ycl = pygame.mouse.get_pos()\n",
    "    xcl, ycl = int(xcl/UPSCALE), int(ycl/UPSCALE)\n",
    "    \n",
    "     # radial blur\n",
    "    xm, ym = torch.meshgrid(torch.linspace(-1, 1, 2*r), torch.linspace(-1, 1, 2*r))\n",
    "    rm = torch.sqrt(xm**2 + ym**2).type(torch.double)\n",
    "    blur = torch.exp(-rm**2 / s**2)\n",
    "    blur = torch.where(rm <= 1., blur, 0.) # circular mask\n",
    "    \n",
    "    # doesn't do periodic boundaries\n",
    "    # state[:, 1, xcl - r:xcl + r, ycl - r : ycl + r] -= (blur.cuda() + 1e-6) \n",
    "    \n",
    "    range_x = range(xcl - r, xcl + r)\n",
    "    range_y = range(ycl - r, ycl + r)\n",
    "    coords = list(product(range_x, range_y))\n",
    "    idx_i = [c[0] % RESX for c in coords]\n",
    "    idx_j = [c[1] % RESY for c in coords]\n",
    "\n",
    "    if BRUSH_TOGGLE:\n",
    "        state[:, 1, idx_i, idx_j] += blur.reshape(-1).cuda()\n",
    "        state[:, 1, idx_i, idx_j] = torch.clip(state[:, 1, idx_i, idx_j], 0., HK_MAX)\n",
    "    else:\n",
    "        state[:, 0, idx_i, idx_j] = torch.where(rm.reshape(-1).cuda() <= 1.,\n",
    "                                                1.,\n",
    "                                                state[:, 0, idx_i, idx_j]\n",
    "                                               )\n",
    "    return state\n",
    "    \n",
    "    \n",
    "def RMB_del(state, r=5, s=1):\n",
    "    '''\n",
    "    right click to erase\n",
    "    r: radius of eraser\n",
    "    s: smoothing / sigma\n",
    "    '''\n",
    "    xcl, ycl = pygame.mouse.get_pos()\n",
    "    xcl, ycl = int(xcl/UPSCALE), int(ycl/UPSCALE)\n",
    "    \n",
    "    # radial blur\n",
    "    xm, ym = torch.meshgrid(torch.linspace(-1, 1, 2*r), torch.linspace(-1, 1, 2*r))\n",
    "    rm = torch.sqrt(xm**2 + ym**2).type(torch.double)\n",
    "    blur = torch.exp(-rm**2 / s**2)\n",
    "    blur = torch.where(rm <= 1., blur, 0.) # circular mask\n",
    "    \n",
    "    range_x = range(xcl - r, xcl + r)\n",
    "    range_y = range(ycl - r, ycl + r)\n",
    "    coords = list(product(range_x, range_y))\n",
    "    idx_i = [c[0] % RESX for c in coords]\n",
    "    idx_j = [c[1] % RESY for c in coords]\n",
    "\n",
    "    if BRUSH_TOGGLE:\n",
    "        state[:, 1, idx_i, idx_j] -= blur.reshape(-1).cuda()\n",
    "        state[:, 1, idx_i, idx_j] = torch.clip(state[:, 1, idx_i, idx_j], 0., HK_MAX)\n",
    "    else:\n",
    "        state[:, 0, idx_i, idx_j] = torch.where(rm.reshape(-1).cuda() <= 1.,\n",
    "                                                -1.,\n",
    "                                                state[:, 0, idx_i, idx_j]\n",
    "                                               )\n",
    "    \n",
    "    return state\n",
    "\n",
    "def WHEEL_permute(cdim_order, direction, mod):\n",
    "    cdim_order = np.mod(np.add(cdim_order, direction), mod)\n",
    "    \n",
    "    return cdim_order\n",
    "    \n",
    "def WHEEL_beta(beta, direction):\n",
    "    \n",
    "    return beta + direction * 0.01\n",
    "\n",
    "def min_max(x):\n",
    "    return (x - x.min()) / (x.max() - x.min())"
   ]
  },
  {
   "cell_type": "code",
   "execution_count": 82,
   "id": "leading-desperate",
   "metadata": {},
   "outputs": [],
   "source": [
    "def print_beta(beta):\n",
    "    fps = f'{beta:.3f}'\n",
    "    fps_text = font.render(fps, 1, pygame.Color(\"white\"))\n",
    "    fps_bg = pygame.Surface((fps_text.get_height(),fps_text.get_width()))  # the size of your rect\n",
    "    fps_bg.set_alpha(50)                # alpha level\n",
    "    fps_bg.fill((255,255,255))           # this fills the entire surface\n",
    "\n",
    "    fps_surf = pygame.Surface((fps_bg.get_height(), fps_bg.get_width()))\n",
    "    fps_surf.blit(fps_bg, (0, 0))\n",
    "    fps_surf.blit(fps_text, (0, 0))\n",
    "    return fps_surf"
   ]
  },
  {
   "cell_type": "markdown",
   "id": "exact-irish",
   "metadata": {
    "tags": []
   },
   "source": [
    "# Test"
   ]
  },
  {
   "cell_type": "code",
   "execution_count": 93,
   "id": "saved-bolivia",
   "metadata": {
    "tags": []
   },
   "outputs": [],
   "source": [
    "# resolution of grid\n",
    "RESX=320\n",
    "RESY=320\n",
    "RES = (RESX, RESY)\n",
    "HK_MAX = 128.\n",
    "INIT_ORDER = 1.\n",
    "INIT_ENERGY = 0.\n",
    "\n",
    "RADIUS=2\n",
    "ca = isingCA(HK_MAX, RADIUS=RADIUS).cuda()"
   ]
  },
  {
   "cell_type": "code",
   "execution_count": 94,
   "id": "automatic-wonder",
   "metadata": {
    "tags": []
   },
   "outputs": [],
   "source": [
    "# brush properties\n",
    "r = RESX//50\n",
    "s = 2\n",
    "\n",
    "state = ca.initGrid(RES, INIT_ORDER, INIT_ENERGY)\n",
    "\n",
    "# pygame stuff\n",
    "######################################\n",
    "pygame.init()\n",
    "size = RESX, RESY\n",
    "# screen = pygame.display.set_mode(size)\n",
    "screen = pygame.Surface(size)\n",
    "UPSCALE = 2.\n",
    "RESXup, RESYup = int(RESX*UPSCALE), int(RESY*UPSCALE)\n",
    "upscaled_screen = pygame.display.set_mode([RESXup, RESYup])\n",
    "\n",
    "running = True\n",
    "time_ticking = True\n",
    "LMB_trigger = False\n",
    "RMB_trigger = False\n",
    "WHEEL_trigger = False\n",
    "cdim_order = np.arange(0, 3)\n",
    "\n",
    "clock = pygame.time.Clock()\n",
    "font = pygame.font.SysFont(\"Noto Sans\", 12)\n",
    "def update_fps(clock, font):\n",
    "    fps = str(int(clock.get_fps()))\n",
    "    fps_text = font.render(fps, 1, pygame.Color(\"white\"))\n",
    "    fps_bg = pygame.Surface((fps_text.get_height(),fps_text.get_width()))  # the size of your rect\n",
    "    fps_bg.set_alpha(50)                # alpha level\n",
    "    fps_bg.fill((255,255,255))           # this fills the entire surface\n",
    "\n",
    "    fps_surf = pygame.Surface((fps_bg.get_height(), fps_bg.get_width()))\n",
    "    fps_surf.blit(fps_bg, (0, 0))\n",
    "    fps_surf.blit(fps_text, (0, 0))\n",
    "    return fps_surf\n",
    "######################################\n",
    "\n",
    "\n",
    "update_rate = 1.\n",
    "ticker = 0.\n",
    "sink = False\n",
    "export_imgs = False\n",
    "imgs = []\n",
    "\n",
    "fixed_boundaries = False\n",
    "\n",
    "# stats to save\n",
    "temps = []\n",
    "mag = []\n",
    "\n",
    "with torch.no_grad():\n",
    "    while running:              \n",
    "        for event in pygame.event.get():\n",
    "            if event.type == pygame.QUIT:\n",
    "                running = False\n",
    "                \n",
    "            if event.type == pygame.MOUSEBUTTONDOWN:\n",
    "                if event.button == 1:\n",
    "                    LMB_trigger = True\n",
    "                if event.button == 3:\n",
    "                    RMB_trigger = True\n",
    "            if event.type == pygame.MOUSEBUTTONUP:\n",
    "                if event.button == 1:\n",
    "                    LMB_trigger = False\n",
    "                if event.button == 3:\n",
    "                    RMB_trigger = False\n",
    "                    \n",
    "            if event.type == pygame.MOUSEWHEEL:\n",
    "                WHEEL_trigger = True\n",
    "                direction = event.y\n",
    "            if event.type == pygame.MOUSEBUTTONUP and event.button == 2:\n",
    "                # scroll through channel dims\n",
    "                cdim_order = np.arange(0, 3)\n",
    "\n",
    "            if event.type == pygame.KEYDOWN and event.key == pygame.K_c:\n",
    "                fixed_boundaries = not fixed_boundaries\n",
    "\n",
    "            if event.type == pygame.KEYDOWN and event.key == pygame.K_e:\n",
    "                export_imgs = not export_imgs\n",
    "            if event.type == pygame.KEYDOWN and event.key == pygame.K_p:\n",
    "                # pause/toggle time\n",
    "                time_ticking = not time_ticking\n",
    "                \n",
    "            if event.type== pygame.KEYDOWN and event.key == pygame.K_r:\n",
    "                # start from seed \n",
    "                state = ca.initGrid(RES, INIT_ORDER, INIT_ENERGY)\n",
    "            if event.type == pygame.KEYDOWN and event.key == pygame.K_b:\n",
    "                BRUSH_TOGGLE = not BRUSH_TOGGLE\n",
    "\n",
    "        mouse_pos = pygame.mouse.get_pos()\n",
    "        if LMB_trigger:\n",
    "            state = LMB_make(state, r=r, s=s)\n",
    "        if RMB_trigger:\n",
    "            state = RMB_del(state, r=r, s=s)\n",
    "        \n",
    "        \n",
    "        if WHEEL_trigger:\n",
    "#             ca.rule.beta = WHEEL_beta(ca.rule.beta, direction)\n",
    "            cdim_order = WHEEL_permute(cdim_order, direction, mod=len(cdim_order))\n",
    "            WHEEL_trigger = False\n",
    "\n",
    "        if cdim_order[0] == 0:\n",
    "            spins = (state.cpu().numpy()[0, 0, :, :] + 1) /2\n",
    "            momentum = state[0, -1, :, :] / ca.rule.Hk_max\n",
    "            momentum = ((momentum - momentum.min()) / (momentum.max() - momentum.min()) ).cpu().numpy()\n",
    "            nx = np.stack([0.7 * momentum , 154/255 * spins, 211/255 * spins]).transpose(1, 2, 0)\n",
    "            nx *= 255\n",
    "        elif cdim_order[0] == 1:\n",
    "            spins = (state.cpu().numpy()[0, 0, :, :] + 1) /2\n",
    "            nx = np.stack([0.7 * spins , 154/255 * spins, 211/255 * spins]).transpose(1, 2, 0)\n",
    "            nx *= 255\n",
    "        elif cdim_order[0] == 2:\n",
    "            momentum = state[0, -1, :, :] / ca.rule.Hk_max\n",
    "            momentum = ((momentum - momentum.min()) / (momentum.max() - momentum.min()) ).cpu().numpy()\n",
    "            nx = np.stack([0.7 * momentum , 154/255 * momentum, 211/255 * momentum]).transpose(1, 2, 0)\n",
    "            nx *= 255\n",
    "\n",
    "\n",
    "        if time_ticking:\n",
    "            state = ca.forward(state)\n",
    "            ticker += 1\n",
    "\n",
    "        if fixed_boundaries:\n",
    "            decay = 0.95\n",
    "            state[0, 1, :RESX//5, :] *=  decay\n",
    "            state[0, 1, -RESX//5:, :] *=  decay\n",
    "            state[0, 1, RESX//5:-RESX//5, -RESY//5:] *=  decay\n",
    "            state[0, 1, RESX//5:-RESX//5, :RESY//5] *= decay\n",
    "            state[0, 1, RESX//3:2*RESX//3, RESX//3:2*RESX//3] += 0.05\n",
    "            state[0, 1] = torch.clip(state[0, 1], 0., HK_MAX)\n",
    "\n",
    "        if export_imgs and time_ticking:\n",
    "            imgs.append(nx)\n",
    "\n",
    "        pygame.surfarray.blit_array(screen, nx)\n",
    "\n",
    "        frame = pygame.transform.scale(screen, (RESXup, RESYup))\n",
    "        upscaled_screen.blit(frame, frame.get_rect())\n",
    "        upscaled_screen.blit(update_fps(clock, font), (10,0))\n",
    "\n",
    "        pygame.display.flip()\n",
    "        clock.tick(240)\n",
    "\n",
    "        \n",
    "pygame.quit()\n"
   ]
  },
  {
   "cell_type": "code",
   "execution_count": 85,
   "outputs": [
    {
     "data": {
      "text/plain": "<Figure size 640x480 with 1 Axes>",
      "image/png": "[encoded data removed]"
     },
     "metadata": {},
     "output_type": "display_data"
    }
   ],
   "source": [
    "plt.hist(state[0, 1].cpu().numpy().reshape(-1), 100);"
   ],
   "metadata": {
    "collapsed": false
   }
  },
  {
   "cell_type": "code",
   "execution_count": 86,
   "outputs": [
    {
     "data": {
      "text/plain": "tensor(0.0005, device='cuda:0')"
     },
     "execution_count": 86,
     "metadata": {},
     "output_type": "execute_result"
    }
   ],
   "source": [
    "state[0, 1].min()"
   ],
   "metadata": {
    "collapsed": false
   }
  },
  {
   "cell_type": "code",
   "execution_count": 87,
   "outputs": [
    {
     "data": {
      "text/plain": "<Figure size 640x480 with 1 Axes>",
      "image/png": "[encoded data removed]"
     },
     "metadata": {},
     "output_type": "display_data"
    }
   ],
   "source": [
    "plt.hist(state[0, 0].cpu().numpy().reshape(-1), 100);"
   ],
   "metadata": {
    "collapsed": false
   }
  },
  {
   "cell_type": "code",
   "execution_count": 88,
   "outputs": [
    {
     "ename": "NameError",
     "evalue": "name 'xxx' is not defined",
     "output_type": "error",
     "traceback": [
      "\u001B[1;31m---------------------------------------------------------------------------\u001B[0m",
      "\u001B[1;31mNameError\u001B[0m                                 Traceback (most recent call last)",
      "Cell \u001B[1;32mIn [88], line 1\u001B[0m\n\u001B[1;32m----> 1\u001B[0m \u001B[43mxxx\u001B[49m\n",
      "\u001B[1;31mNameError\u001B[0m: name 'xxx' is not defined"
     ]
    }
   ],
   "source": [
    "xxx"
   ],
   "metadata": {
    "collapsed": false
   }
  },
  {
   "cell_type": "code",
   "execution_count": null,
   "outputs": [],
   "source": [
    "fname = time.strftime(\"%Y%m%d-%H%M%S\")\n",
    "out = cv2.VideoWriter(f'videos/CA-{fname}.avi',cv2.VideoWriter_fourcc(*'DIVX'), 60, (RESX, RESY), 3)\n",
    "# out = cv2.VideoWriter(f'videos/CA-{fname}.mp4',cv2.VideoWriter_fourcc(*'MP4V'), 60, (RESX, RESY), 3)\n",
    "\n",
    "\n",
    "for img in imgs:\n",
    "#     img = np.uint8(cv2.cvtColor(img, cv2.COLOR_RGB2BGR)*255.0)\n",
    "    o_img = np.uint8(cv2.cvtColor(img, cv2.COLOR_RGB2BGR))\n",
    "    out.write(o_img)\n",
    "out.release()"
   ],
   "metadata": {
    "collapsed": false
   }
  }
 ],
 "metadata": {
  "kernelspec": {
   "display_name": "Python 3 (ipykernel)",
   "language": "python",
   "name": "python3"
  },
  "language_info": {
   "codemirror_mode": {
    "name": "ipython",
    "version": 3
   },
   "file_extension": ".py",
   "mimetype": "text/x-python",
   "name": "python",
   "nbconvert_exporter": "python",
   "pygments_lexer": "ipython3",
   "version": "3.9.15"
  }
 },
 "nbformat": 4,
 "nbformat_minor": 5
}
